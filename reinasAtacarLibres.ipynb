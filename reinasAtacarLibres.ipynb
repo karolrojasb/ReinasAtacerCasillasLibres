{
  "nbformat": 4,
  "nbformat_minor": 0,
  "metadata": {
    "colab": {
      "name": "reinasAtacarLibres.ipynb",
      "provenance": [],
      "collapsed_sections": [],
      "authorship_tag": "ABX9TyNT1EGnXKrU9DA6OLXh/Ng9",
      "include_colab_link": true
    },
    "kernelspec": {
      "name": "python3",
      "display_name": "Python 3"
    },
    "language_info": {
      "name": "python"
    }
  },
  "cells": [
    {
      "cell_type": "markdown",
      "metadata": {
        "id": "view-in-github",
        "colab_type": "text"
      },
      "source": [
        "<a href=\"https://colab.research.google.com/github/karolrojasb/ReinasAtacerCasillasLibres/blob/main/reinasAtacarLibres.ipynb\" target=\"_parent\"><img src=\"https://colab.research.google.com/assets/colab-badge.svg\" alt=\"Open In Colab\"/></a>"
      ]
    },
    {
      "cell_type": "markdown",
      "metadata": {
        "id": "2kKU-SYzVHVZ"
      },
      "source": [
        "**ME HACE FALTA HACER EL MARCAR ATAQUES Y HACER UN CONTADOR DE SOLUCIONES GLOBAL**"
      ]
    },
    {
      "cell_type": "code",
      "metadata": {
        "id": "Ct8s6dGBhME_"
      },
      "source": [
        "import numpy as np"
      ],
      "execution_count": 72,
      "outputs": []
    },
    {
      "cell_type": "code",
      "metadata": {
        "id": "x9yHnKIM79Lj"
      },
      "source": [
        "def marcarAtaques(tablero):\n",
        "  n = tablero.shape[0]\n",
        "  contadorReinas = 0\n",
        "  for filaR in range(n):\n",
        "    for columnaR in range(n):\n",
        "      if contadorReinas == n+1:\n",
        "        return\n",
        "      if tablero[filaR][columnaR] == 2:\n",
        "        contadorReinas = contadorReinas+1\n",
        "        for i in range(n):\n",
        "          # Marcar ataques horizontales\n",
        "          if tablero[filaR][i]==0:\n",
        "            tablero[filaR][i]=1\n",
        "          # Marcar ataques verticales\n",
        "          if tablero[i][columnaR]==0:\n",
        "            tablero[i][columnaR]=1\n",
        "          # Marcar Ataques diagonales:\n",
        "          if i==filaR:\n",
        "            continue\n",
        "          # Diagonal derecha (con pendiente negativa)\n",
        "          columna = columnaR - filaR + i\n",
        "          if (columna>=0) and (columna)<n:\n",
        "            if tablero[i][columna]==0:\n",
        "              tablero[i][columna] = 1\n",
        "          # Diagonal izquierda (con pendiente positiva)\n",
        "          columna = columnaR + filaR - i\n",
        "          if (columna>=0) and (columna)<n:\n",
        "            if tablero[i][columna]==0:\n",
        "              tablero[i][columna] = 1"
      ],
      "execution_count": 71,
      "outputs": []
    },
    {
      "cell_type": "code",
      "metadata": {
        "id": "m8chCM-UMam8"
      },
      "source": [
        "def colocarReina(tablero,filaRA,columnaRA, contadorReinas):\n",
        "  exito = False # Bandera para indicar si se debe verificar el tablero\n",
        "  inicio = filaRA  # variable para indicar el índice de FILA en el que se va ubicar la reina\n",
        "  n = tablero.shape[0] # Obtener la dimensión del tablero\n",
        "  # Si la reina anterior se puso en la última columna de una fila,\n",
        "  # entonces, la nueva reina se va empezar a ubicar en la fila siguiente\n",
        "  if columnaRA == n-1: # n-1 = el último índice de la columna \n",
        "    inicio = inicio + 1\n",
        "  # Si la última reina era la última de el máximo de reinas,\n",
        "  # entonces, todas las reinas se han ubicado y se debe verificar el tablero recibido\n",
        "  if (contadorReinas == n+1): #n+1 = el máximo de reinas que se deben ubicar\n",
        "    exito = True   \n",
        "  # Si se ha ubicado la primera reina en la posición: penúltima fila con última columna (n-2 , n-1), \n",
        "  # quiere decir, que el resto de las reinas deben ubicarse de manera seguida, \n",
        "  # ya que de lo contrario no habrían más casillas dónde ubicarlas\n",
        "  if (contadorReinas==1 and filaRA >= n-2 and columnaRA >= n-1):\n",
        "    for j in range(n):\n",
        "      tablero[inicio][j]=2\n",
        "    exito = True\n",
        "  # Si se han ubicado todas las reinas en el tablero, calcula sus ataques \n",
        "  # y verifica si es una solución valida\n",
        "  if exito:\n",
        "    marcarAtaques(tablero)\n",
        "    if np.all(tablero):  # Retorna False si hay al menos un cero en el tablero\n",
        "      print(\"\\n \")\n",
        "      print(tablero)\n",
        "  else:\n",
        "    for i in range(inicio,n):\n",
        "      for j in range(n):\n",
        "        # Cuando se debe colocar la reina en la misma fila que la anterior\n",
        "        if ((j + columnaRA < 3) and (i == filaRA)):\n",
        "          tablero[i][j+columnaRA+1] = 2 # Ubicar la nueva reina\n",
        "          contadorReinas = contadorReinas+1 # Contar una reina ubicada\n",
        "           # mandar la ubicación de la reina actual para calcular la ubicación de la siguiente\n",
        "          colocarReina(tablero,i,j+columnaRA+1,contadorReinas)\n",
        "          # Desmarcar la reina actual para que en el otro ciclo de los for anidados se pruebe\n",
        "          # con la siguiente posición disponible\n",
        "          tablero[i][(j+columnaRA+1)] = 0  \n",
        "          # descontador la reina desmarcada\n",
        "          contadorReinas = contadorReinas - 1\n",
        "        else:\n",
        "          # Para ubicar la reina en todas las columnas desde la primera con índice 0\n",
        "          # hasta la última, pero en la fila o filas siguientes a la de la reina anterior\n",
        "          if (i>filaRA): \n",
        "            tablero[i][j] = 2 # Ubicar la nueva reina\n",
        "            contadorReinas = contadorReinas+1 # Contar una reina ubicada\n",
        "            # mandar la ubicación de la reina actual para calcular la ubicación de la siguiente\n",
        "            colocarReina(tablero,i,j,contadorReinas) \n",
        "            # Desmarcar la reina actual para que en el otro ciclo de los for anidados se pruebe\n",
        "            # con la siguiente posición disponible\n",
        "            tablero[i][j] = 0\n",
        "            # descontador la reina desmarcada\n",
        "            contadorReinas = contadorReinas-1"
      ],
      "execution_count": 75,
      "outputs": []
    },
    {
      "cell_type": "code",
      "metadata": {
        "id": "X0jBno9QfxpY"
      },
      "source": [
        "# Función ue encuentra todas las soluciones posibles de como ubicar, en un tablero de nxn, n + 1 reinas de tal forma\n",
        "# que todas las casillas del tablero queden atacadas.\n",
        "# En el tablero:\n",
        "# - Un CERO indica que es un espacio libre y NO atacado\n",
        "# - Un UNO indica que es un espacio libreo PERO SÍ esta siendo atacado\n",
        "# - Un DOS indica que es un espacio OCUPADO por una reina\n",
        "\n",
        "def reinasAtacarLibres(dimensionTablero):\n",
        "  tablero = np.zeros((dimensionTablero,dimensionTablero),dtype=np.uint8) #Tablero lleno de ceros\n",
        "  numReinas=dimensionTablero+1\n",
        "  contadorReinas=0\n",
        "  for i in range (tablero.shape[0]-1): ## Nunca se ubica una primera reina en la última fila de la matriz\n",
        "    for j in range (tablero.shape[0]):\n",
        "      tablero[i][j] = 2 # colocar primera reina\n",
        "      contadorReinas = contadorReinas+1\n",
        "      colocarReinas(tablero,i,j,numReinas,contadorReinas)  \n",
        "      tablero[i][j] = 0\n",
        "      contadorReinas=contadorReinas-1"
      ],
      "execution_count": 69,
      "outputs": []
    },
    {
      "cell_type": "code",
      "metadata": {
        "colab": {
          "base_uri": "https://localhost:8080/"
        },
        "id": "Y_HfgPIDGrdV",
        "outputId": "f92ef437-0c5c-4f58-bf8f-da0b35148be1"
      },
      "source": [
        ""
      ],
      "execution_count": 80,
      "outputs": [
        {
          "output_type": "stream",
          "text": [
            "[[1 1 1 1 1 1 1 1]\n",
            " [1 1 1 1 1 1 1 1]\n",
            " [1 1 1 1 1 1 1 1]\n",
            " [1 1 2 2 1 1 1 1]\n",
            " [2 2 2 1 1 1 1 1]\n",
            " [1 2 2 1 1 1 1 1]\n",
            " [1 1 1 1 1 2 1 1]\n",
            " [1 1 1 1 2 1 1 1]]\n"
          ],
          "name": "stdout"
        }
      ]
    }
  ]
}